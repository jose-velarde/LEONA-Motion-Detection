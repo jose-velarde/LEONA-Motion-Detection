{
 "cells": [
  {
   "cell_type": "code",
   "execution_count": 1,
   "metadata": {},
   "outputs": [],
   "source": [
    "import pandas as pd"
   ]
  },
  {
   "cell_type": "code",
   "execution_count": 2,
   "metadata": {},
   "outputs": [],
   "source": [
    "chunk1 = pd.read_csv('C:\\\\Users\\\\sauli\\\\Downloads\\\\Soft_Tesis\\\\data_part_1.csv', delimiter='|', skiprows=[1] )"
   ]
  },
  {
   "cell_type": "code",
   "execution_count": 3,
   "metadata": {},
   "outputs": [],
   "source": [
    "chunk1.columns = chunk1.columns.str.replace(' ', '')"
   ]
  },
  {
   "cell_type": "code",
   "execution_count": 4,
   "metadata": {},
   "outputs": [],
   "source": [
    "chunk1[\"data_hora\"] = chunk1[\"data_hora\"].str.strip()"
   ]
  },
  {
   "cell_type": "code",
   "execution_count": 5,
   "metadata": {},
   "outputs": [
    {
     "data": {
      "text/html": [
       "<div>\n",
       "<style scoped>\n",
       "    .dataframe tbody tr th:only-of-type {\n",
       "        vertical-align: middle;\n",
       "    }\n",
       "\n",
       "    .dataframe tbody tr th {\n",
       "        vertical-align: top;\n",
       "    }\n",
       "\n",
       "    .dataframe thead th {\n",
       "        text-align: right;\n",
       "    }\n",
       "</style>\n",
       "<table border=\"1\" class=\"dataframe\">\n",
       "  <thead>\n",
       "    <tr style=\"text-align: right;\">\n",
       "      <th></th>\n",
       "      <th>data_hora</th>\n",
       "      <th>nanosseg</th>\n",
       "      <th>latitude</th>\n",
       "      <th>longitude</th>\n",
       "      <th>corrente_ka</th>\n",
       "      <th>tipo</th>\n",
       "    </tr>\n",
       "  </thead>\n",
       "  <tbody>\n",
       "    <tr>\n",
       "      <th>0</th>\n",
       "      <td>2018-11-24 16:00:01</td>\n",
       "      <td>155525188</td>\n",
       "      <td>-21.95753</td>\n",
       "      <td>-50.70251</td>\n",
       "      <td>-1.867</td>\n",
       "      <td>1</td>\n",
       "    </tr>\n",
       "  </tbody>\n",
       "</table>\n",
       "</div>"
      ],
      "text/plain": [
       "             data_hora   nanosseg  latitude  longitude  corrente_ka  tipo\n",
       "0  2018-11-24 16:00:01  155525188 -21.95753  -50.70251       -1.867     1"
      ]
     },
     "execution_count": 5,
     "metadata": {},
     "output_type": "execute_result"
    }
   ],
   "source": [
    "chunk1.head(1)"
   ]
  },
  {
   "cell_type": "code",
   "execution_count": 6,
   "metadata": {},
   "outputs": [],
   "source": [
    "date_time = chunk1.data_hora.str.extract('(?P<year>\\d{4})-(?P<month>\\d{2})-(?P<day>\\d{2}) (?P<hour>\\d{2}):(?P<minute>\\d{2}):(?P<second>\\d{2})')"
   ]
  },
  {
   "cell_type": "code",
   "execution_count": 7,
   "metadata": {},
   "outputs": [
    {
     "data": {
      "text/html": [
       "<div>\n",
       "<style scoped>\n",
       "    .dataframe tbody tr th:only-of-type {\n",
       "        vertical-align: middle;\n",
       "    }\n",
       "\n",
       "    .dataframe tbody tr th {\n",
       "        vertical-align: top;\n",
       "    }\n",
       "\n",
       "    .dataframe thead th {\n",
       "        text-align: right;\n",
       "    }\n",
       "</style>\n",
       "<table border=\"1\" class=\"dataframe\">\n",
       "  <thead>\n",
       "    <tr style=\"text-align: right;\">\n",
       "      <th></th>\n",
       "      <th>year</th>\n",
       "      <th>month</th>\n",
       "      <th>day</th>\n",
       "      <th>hour</th>\n",
       "      <th>minute</th>\n",
       "      <th>second</th>\n",
       "      <th>nanosec</th>\n",
       "      <th>latitude</th>\n",
       "      <th>longitude</th>\n",
       "      <th>corrente_pico_kA</th>\n",
       "      <th>cg_ic_flag</th>\n",
       "    </tr>\n",
       "  </thead>\n",
       "  <tbody>\n",
       "    <tr>\n",
       "      <th>0</th>\n",
       "      <td>2018</td>\n",
       "      <td>11</td>\n",
       "      <td>24</td>\n",
       "      <td>16</td>\n",
       "      <td>00</td>\n",
       "      <td>01</td>\n",
       "      <td>155525188</td>\n",
       "      <td>-21.95753</td>\n",
       "      <td>-50.70251</td>\n",
       "      <td>-1.867</td>\n",
       "      <td>1</td>\n",
       "    </tr>\n",
       "  </tbody>\n",
       "</table>\n",
       "</div>"
      ],
      "text/plain": [
       "   year month day hour minute second    nanosec  latitude  longitude  \\\n",
       "0  2018    11  24   16     00     01  155525188 -21.95753  -50.70251   \n",
       "\n",
       "   corrente_pico_kA  cg_ic_flag  \n",
       "0            -1.867           1  "
      ]
     },
     "execution_count": 7,
     "metadata": {},
     "output_type": "execute_result"
    }
   ],
   "source": [
    "date_time.head(1).join(chunk1.head(1).iloc[:,-5:]).rename(columns={'nanosseg': 'nanosec', 'corrente_ka':'corrente_pico_kA', 'tipo':'cg_ic_flag'})\n"
   ]
  },
  {
   "cell_type": "code",
   "execution_count": 8,
   "metadata": {},
   "outputs": [],
   "source": [
    "chunk1_ready = date_time.join(chunk1.iloc[:,-5:]).rename(columns={'nanosseg': 'nanosec', 'corrente_ka':'corrente_pico_kA', 'tipo':'ic_cg_flag'})\n"
   ]
  },
  {
   "cell_type": "code",
   "execution_count": 37,
   "metadata": {},
   "outputs": [],
   "source": [
    "for group in chunk1_ready.groupby(['month', 'day']):\n",
    "    group[1].to_csv(group[1].iloc[0]['year'] +'-'+ group[1].iloc[0]['month'] +'-'+ group[1].iloc[0]['day'] + '.csv', index=False)\n",
    "    # print(group[1].iloc[0]['year'] +'-'+ group[1].iloc[0]['month'] +'-'+ group[1].iloc[0]['day'] )\n"
   ]
  },
  {
   "cell_type": "code",
   "execution_count": 3,
   "metadata": {},
   "outputs": [],
   "source": [
    "day = pd.read_csv('C:\\\\Users\\\\sauli\\\\Downloads\\\\Soft_Tesis\\\\BrasilDAT_data\\\\days\\\\2018-11-24.csv')"
   ]
  },
  {
   "cell_type": "code",
   "execution_count": 6,
   "metadata": {},
   "outputs": [
    {
     "ename": "SyntaxError",
     "evalue": "invalid syntax (Temp/ipykernel_15236/3223649474.py, line 1)",
     "output_type": "error",
     "traceback": [
      "\u001b[1;36m  File \u001b[1;32m\"C:\\Users\\sauli\\AppData\\Local\\Temp/ipykernel_15236/3223649474.py\"\u001b[1;36m, line \u001b[1;32m1\u001b[0m\n\u001b[1;33m    day[(day[\"ic_cg_flag\"] == 0) && day[\"corrente_pic_kA\"] > 50]\u001b[0m\n\u001b[1;37m                                  ^\u001b[0m\n\u001b[1;31mSyntaxError\u001b[0m\u001b[1;31m:\u001b[0m invalid syntax\n"
     ]
    }
   ],
   "source": [
    "day[(day[\"ic_cg_flag\"] == 0) && day[\"corrente_pic_kA\"] > 50]"
   ]
  }
 ],
 "metadata": {
  "interpreter": {
   "hash": "a53003aec9a34b799eb57957e3ffa187c6d57b403b700d265485e373553a7f3e"
  },
  "kernelspec": {
   "display_name": "Python 3.8.10 64-bit",
   "language": "python",
   "name": "python3"
  },
  "language_info": {
   "codemirror_mode": {
    "name": "ipython",
    "version": 3
   },
   "file_extension": ".py",
   "mimetype": "text/x-python",
   "name": "python",
   "nbconvert_exporter": "python",
   "pygments_lexer": "ipython3",
   "version": "3.8.10"
  },
  "orig_nbformat": 4
 },
 "nbformat": 4,
 "nbformat_minor": 2
}
